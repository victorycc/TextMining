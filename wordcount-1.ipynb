{
 "cells": [
  {
   "cell_type": "raw",
   "metadata": {},
   "source": []
  },
  {
   "cell_type": "code",
   "execution_count": 1,
   "metadata": {
    "scrolled": false
   },
   "outputs": [
    {
     "name": "stderr",
     "output_type": "stream",
     "text": [
      "Building prefix dict from E:\\Project20190328\\dict.txt.big ...\n",
      "Loading model from cache C:\\Users\\BIGDAT~1\\AppData\\Local\\Temp\\jieba.uc10016b84e45d3929b85aacf9861d988.cache\n",
      "Loading model cost 1.352 seconds.\n",
      "Prefix dict has been built succesfully.\n"
     ]
    },
    {
     "name": "stdout",
     "output_type": "stream",
     "text": [
      "check-total_segmentr = 39848\n",
      "check-total_number = 1354352\n",
      "check the number of tf-idf-list = [('令人', 9.7676085477e-05), ('筍', 9.7675975644e-05), ('必點', 9.7675975644e-05), ('其他', 9.7675975644e-05), ('不用', 9.7675975644e-05), ('魚肉', 9.7675143946e-05), ('海膽', 9.7675143946e-05), ('蔥', 9.7673154484e-05), ('調酒', 9.7672588024e-05), ('約', 9.7666045404e-05), ('製', 9.7664953143e-05), ('來到', 9.7664953143e-05), ('給', 9.7654785279e-05), ('由', 9.7654785279e-05), ('柚子', 9.7654785279e-05), ('第一次', 9.7653042685e-05), ('滿足', 9.7653042685e-05), ('下去', 9.7653042685e-05), ('外皮', 9.7647606932e-05), ('干', 9.7639400807e-05)]\n"
     ]
    }
   ],
   "source": [
    "import pandas as pd\n",
    "import jieba, re\n",
    "from collections import Counter\n",
    "import math\n",
    "\n",
    "with open(\"result.txt\",\"r\", encoding=\"utf-8\") as f:\n",
    "#    Counter(word_cut).most_common()\n",
    "    jieba.set_dictionary(\"dict.txt.big\")\n",
    "    lines = f.readlines()\n",
    "    total_d = {}\n",
    "    cnt = 0\n",
    "#\n",
    "    for line in lines:\n",
    "        word_list = jieba.cut(line, cut_all = False)\n",
    "        cnt = cnt + 1\n",
    "#        print(\"check-words = \", \" \".join(jieba.cut(line, cut_all = False)))\n",
    "\n",
    "        d = {}\n",
    "        for word in word_list:\n",
    "            d[word] = d.get(word, 0) + 1\n",
    "            total = sum(d.values())\n",
    "            total_d[word] = total_d.get(word, 0) + 1\n",
    "            \n",
    "#        for key, value in d.items():\n",
    "#            print(key, value)\n",
    "#        print(\"Total-word-cut =\", total)\n",
    "#\n",
    "    total_number = 0\n",
    "    total_segment = 0\n",
    "    word_freq = []\n",
    "    for key, value in total_d.items():\n",
    "        word_freq.append((value, key))\n",
    "        total_segment = total_segment + 1\n",
    "        total_number = total_number + value\n",
    "    print(\"check-total_segmentr =\", total_segment)\n",
    "    print(\"check-total_number =\", total_number)\n",
    "        \n",
    "    word_freq.sort(reverse = True)\n",
    "    #print(\"word-frequency = \", word_freq)\n",
    "    \n",
    "### begin to do TF\n",
    "    tf_list = []\n",
    "    for ii in word_freq:\n",
    "        tf = round(ii[0] / total_number, 15)\n",
    "        tf_list.append((ii[1], tf))\n",
    "#    print(tf_list)\n",
    "\n",
    "### begin to do IDF\n",
    "    \n",
    "    idf_list = []\n",
    "    for ii in word_freq:\n",
    "        idf = round(math.log10(cnt)-math.log10(ii[0]),15)\n",
    "        idf_list.append((ii[1],idf))\n",
    "#    print(idf_list)\n",
    "    \n",
    "### begin to do TF-IDF\n",
    "    tf_idf_list = []\n",
    "    for aa, bb in zip(tf_list, idf_list):\n",
    "        tfidf = round(aa[1] * bb[1], 15)\n",
    "        tf_idf_list.append((aa[0], tfidf))\n",
    "#    print(tf_idf_list)\n",
    "    \n",
    "#找出前20個關鍵詞\n",
    "    tf_idf_list.sort(key=lambda tup: tup[1], reverse = True)\n",
    "    print(\"check the number of tf-idf-list =\", tf_idf_list[0:20])\n",
    "    \n",
    "### \n",
    "#mean_idf = sum(idf_freq.values())/cnt \n",
    "#print(\"mean-idf =\", mean_idf)\n",
    "#####\n",
    "\n",
    "    \n",
    "\n",
    "\n",
    "# In[ ]:\n",
    "\n",
    "    "
   ]
  },
  {
   "cell_type": "code",
   "execution_count": null,
   "metadata": {},
   "outputs": [],
   "source": []
  }
 ],
 "metadata": {
  "kernelspec": {
   "display_name": "Python 3",
   "language": "python",
   "name": "python3"
  },
  "language_info": {
   "codemirror_mode": {
    "name": "ipython",
    "version": 3
   },
   "file_extension": ".py",
   "mimetype": "text/x-python",
   "name": "python",
   "nbconvert_exporter": "python",
   "pygments_lexer": "ipython3",
   "version": "3.6.0"
  }
 },
 "nbformat": 4,
 "nbformat_minor": 2
}
